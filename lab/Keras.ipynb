{
 "cells": [
  {
   "cell_type": "markdown",
   "metadata": {},
   "source": [
    "# Keras\n",
    "\n",
    "1. Before installing Keras, install one of its backend engines: [TensorFlow](https://www.tensorflow.org/install/), [Theano](http://deeplearning.net/software/theano/install.html#install), or [CNTK](https://docs.microsoft.com/en-us/cognitive-toolkit/setup-cntk-on-your-machine). Keras recommend the TensorFlow backend.\n",
    "\n",
    "    Optional dependencies:\n",
    "    * [cuDNN](https://docs.nvidia.com/deeplearning/sdk/cudnn-install/) (recommended if you plan on running Keras on GPU).\n",
    "    * HDF5 and [h5py](http://docs.h5py.org/en/latest/build.html) (required if you plan on saving Keras models to disk).\n",
    "    * [graphviz](https://graphviz.gitlab.io/download/) and [pydot](https://github.com/erocarrera/pydot) (used by [visualization utilities](https://keras.io/visualization/) to plot model graphs).\n",
    "\n",
    "2. **pip install keras**\n",
    "\n",
    "> You may need administrator privilage when installing keras package. In windows right click and select \"Run as administrator\".\n",
    "\n",
    "```sh\n",
    "pip install keras\n",
    "Collecting keras\n",
    "  Downloading https://files.pythonhosted.org/packages/68/12/4cabc5c01451eb3b413d19ea151f36e33026fc0efb932bf51bcaf54acbf5/Keras-2.2.0-py2.py3-none-any.whl (300kB)\n",
    "    100% |████████████████████████████████| 307kB 2.1MB/s\n",
    "Collecting pyyaml (from keras)\n",
    "  Downloading https://files.pythonhosted.org/packages/ad/d4/d895fb7ac1b0828151b829a32cefc8a8b58b4499570520b91af20982b880/PyYAML-3.13-cp35-cp35m-win_amd64.whl (205kB)\n",
    "    100% |████████████████████████████████| 215kB 2.7MB/s\n",
    "Collecting keras-applications==1.0.2 (from keras)\n",
    "  Downloading https://files.pythonhosted.org/packages/e2/60/c557075e586e968d7a9c314aa38c236b37cb3ee6b37e8d57152b1a5e0b47/Keras_Applications-1.0.2-py2.py3-none-any.whl (43kB)\n",
    "    100% |████████████████████████████████| 51kB 2.9MB/s\n",
    "Collecting keras-preprocessing==1.0.1 (from keras)\n",
    "  Downloading https://files.pythonhosted.org/packages/f8/33/275506afe1d96b221f66f95adba94d1b73f6b6087cfb6132a5655b6fe338/Keras_Preprocessing-1.0.1-py2.py3-none-any.whl\n",
    "Collecting scipy>=0.14 (from keras)\n",
    "  Downloading https://files.pythonhosted.org/packages/84/fc/f0adfaea340732ff25ccba17d1dd6fcc81fda302dbf31212ef7395463720/scipy-1.1.0-cp35-none-win_amd64.whl (31.1MB)\n",
    "    100% |████████████████████████████████| 31.1MB 259kB/s\n",
    "Collecting h5py (from keras)\n",
    "  Downloading https://files.pythonhosted.org/packages/d0/2c/4572e2e495341e667c89b490ad18ea71a5f9e9fafca06109a9c7db22848b/h5py-2.8.0-cp35-cp35m-win_amd64.whl (2.3MB)\n",
    "    100% |████████████████████████████████| 2.3MB 4.1MB/s\n",
    "Requirement already satisfied: six>=1.9.0 in c:\\users\\rewang\\appdata\\local\\conda\\conda\\envs\\tensorflow\\lib\\site-packages (from keras) (1.11.0)\n",
    "Requirement already satisfied: numpy>=1.9.1 in c:\\users\\rewang\\appdata\\local\\conda\\conda\\envs\\tensorflow\\lib\\site-packages (from keras) (1.14.5)\n",
    "Installing collected packages: pyyaml, h5py, keras-applications, scipy, keras-preprocessing, keras\n",
    "Successfully installed h5py-2.8.0 keras-2.2.0 keras-applications-1.0.2 keras-preprocessing-1.0.1 pyyaml-3.13 scipy-1.1.0\n",
    "```\n",
    "\n",
    "Below is an example with the Keras Sequential model"
   ]
  },
  {
   "cell_type": "code",
   "execution_count": 1,
   "metadata": {},
   "outputs": [
    {
     "name": "stderr",
     "output_type": "stream",
     "text": [
      "Using TensorFlow backend.\n"
     ]
    },
    {
     "name": "stdout",
     "output_type": "stream",
     "text": [
      "x_train shape: (60000, 28, 28, 1)\n",
      "60000 train samples\n",
      "10000 test samples\n",
      "Train on 60000 samples, validate on 10000 samples\n",
      "Epoch 1/12\n",
      "60000/60000 [==============================] - 1060s 18ms/step - loss: 0.2696 - acc: 0.9166 - val_loss: 0.0683 - val_acc: 0.9792\n",
      "Epoch 2/12\n",
      "60000/60000 [==============================] - 1140s 19ms/step - loss: 0.0973 - acc: 0.9711 - val_loss: 0.0445 - val_acc: 0.9853\n",
      "Epoch 3/12\n",
      "60000/60000 [==============================] - 1091s 18ms/step - loss: 0.0777 - acc: 0.9772 - val_loss: 0.0400 - val_acc: 0.9870\n",
      "Epoch 4/12\n",
      "60000/60000 [==============================] - 1007s 17ms/step - loss: 0.0641 - acc: 0.9806 - val_loss: 0.0367 - val_acc: 0.9872\n",
      "Epoch 5/12\n",
      "60000/60000 [==============================] - 1031s 17ms/step - loss: 0.0557 - acc: 0.9829 - val_loss: 0.0395 - val_acc: 0.9878\n",
      "Epoch 6/12\n",
      "60000/60000 [==============================] - 1084s 18ms/step - loss: 0.0564 - acc: 0.9833 - val_loss: 0.0361 - val_acc: 0.9885\n",
      "Epoch 7/12\n",
      "60000/60000 [==============================] - 1208s 20ms/step - loss: 0.0496 - acc: 0.9855 - val_loss: 0.0347 - val_acc: 0.9897\n",
      "Epoch 8/12\n",
      "60000/60000 [==============================] - 1120s 19ms/step - loss: 0.0515 - acc: 0.9849 - val_loss: 0.0356 - val_acc: 0.9894\n",
      "Epoch 9/12\n",
      "60000/60000 [==============================] - 1012s 17ms/step - loss: 0.0474 - acc: 0.9863 - val_loss: 0.0389 - val_acc: 0.9888\n",
      "Epoch 10/12\n",
      "60000/60000 [==============================] - 1124s 19ms/step - loss: 0.0470 - acc: 0.9861 - val_loss: 0.0393 - val_acc: 0.9898\n",
      "Epoch 11/12\n",
      "60000/60000 [==============================] - 1027s 17ms/step - loss: 0.0472 - acc: 0.9870 - val_loss: 0.0384 - val_acc: 0.9891\n",
      "Epoch 12/12\n",
      "60000/60000 [==============================] - 1038s 17ms/step - loss: 0.0493 - acc: 0.9863 - val_loss: 0.0438 - val_acc: 0.9880\n",
      "Test loss: 0.04383922001640435\n",
      "Test accuracy: 0.988\n"
     ]
    }
   ],
   "source": [
    "'''\n",
    "https://github.com/keras-team/keras/blob/master/examples/mnist_cnn.py\n",
    "\n",
    "Trains a simple convnet on the MNIST dataset.\n",
    "Gets to 99.25% test accuracy after 12 epochs\n",
    "(there is still a lot of margin for parameter tuning).\n",
    "16 seconds per epoch on a GRID K520 GPU.\n",
    "'''\n",
    "\n",
    "from __future__ import print_function\n",
    "import keras\n",
    "from keras.datasets import mnist\n",
    "from keras.models import Sequential\n",
    "from keras.layers import Dense, Dropout, Flatten\n",
    "from keras.layers import Conv2D, MaxPooling2D\n",
    "from keras import backend as K\n",
    "\n",
    "batch_size = 128\n",
    "num_classes = 10\n",
    "epochs = 12\n",
    "\n",
    "# input image dimensions\n",
    "img_rows, img_cols = 28, 28\n",
    "\n",
    "# the data, split between train and test sets\n",
    "(x_train, y_train), (x_test, y_test) = mnist.load_data()\n",
    "\n",
    "if K.image_data_format() == 'channels_first':\n",
    "    x_train = x_train.reshape(x_train.shape[0], 1, img_rows, img_cols)\n",
    "    x_test = x_test.reshape(x_test.shape[0], 1, img_rows, img_cols)\n",
    "    input_shape = (1, img_rows, img_cols)\n",
    "else:\n",
    "    x_train = x_train.reshape(x_train.shape[0], img_rows, img_cols, 1)\n",
    "    x_test = x_test.reshape(x_test.shape[0], img_rows, img_cols, 1)\n",
    "    input_shape = (img_rows, img_cols, 1)\n",
    "\n",
    "x_train = x_train.astype('float32')\n",
    "x_test = x_test.astype('float32')\n",
    "x_train /= 255\n",
    "x_test /= 255\n",
    "print('x_train shape:', x_train.shape)\n",
    "print(x_train.shape[0], 'train samples')\n",
    "print(x_test.shape[0], 'test samples')\n",
    "\n",
    "# convert class vectors to binary class matrices\n",
    "y_train = keras.utils.to_categorical(y_train, num_classes)\n",
    "y_test = keras.utils.to_categorical(y_test, num_classes)\n",
    "\n",
    "model = Sequential()\n",
    "model.add(Conv2D(32, kernel_size=(3, 3),\n",
    "                 activation='relu',\n",
    "                 input_shape=input_shape))\n",
    "model.add(Conv2D(64, (3, 3), activation='relu'))\n",
    "model.add(MaxPooling2D(pool_size=(2, 2)))\n",
    "model.add(Dropout(0.25))\n",
    "model.add(Flatten())\n",
    "model.add(Dense(128, activation='relu'))\n",
    "model.add(Dropout(0.5))\n",
    "model.add(Dense(num_classes, activation='softmax'))\n",
    "\n",
    "model.compile(loss=keras.losses.categorical_crossentropy,\n",
    "              optimizer=keras.optimizers.Adadelta(),\n",
    "              metrics=['accuracy'])\n",
    "\n",
    "model.fit(x_train, y_train,\n",
    "          batch_size=batch_size,\n",
    "          epochs=epochs,\n",
    "          verbose=1,\n",
    "          validation_data=(x_test, y_test))\n",
    "score = model.evaluate(x_test, y_test, verbose=0)\n",
    "print('Test loss:', score[0])\n",
    "print('Test accuracy:', score[1])\n"
   ]
  },
  {
   "cell_type": "code",
   "execution_count": 2,
   "metadata": {},
   "outputs": [
    {
     "data": {
      "image/png": "[encoded data removed]",
      "text/plain": [
       "<matplotlib.figure.Figure at 0x21bdb7097b8>"
      ]
     },
     "metadata": {},
     "output_type": "display_data"
    }
   ],
   "source": [
    "import matplotlib.pyplot as plt\n",
    "\n",
    "loss=[0.2696,0.0973,0.0777,0.0641,0.0557,0.0564,0.0496,0.0515,0.0474,0.0470, 0.0472, 0.0493]\n",
    "accarucy=[0.9166,0.9711,0.9772,0.9806,0.9829,0.9833,0.9855,0.9849,0.9863,0.9861, 0.9870, 0.9863]\n",
    "\n",
    "plt.plot(loss)\n",
    "plt.plot(accarucy)\n",
    "plt.ylabel(\"Percentage\")\n",
    "plt.xlabel(\"Epoch\")\n",
    "plt.show()"
   ]
  },
  {
   "cell_type": "markdown",
   "metadata": {
    "collapsed": true
   },
   "source": [
    "##  How can we possibly improve the performance?\n",
    "\n",
    "###   Multi-thread\n",
    "\n",
    "Keras is thread safe, if you pay a little attention to it.\n",
    "\n",
    "In **reinforcement learning** there is an algorithm called **[Asynchronous Advantage Actor Critics (A3C)](https://arxiv.org/pdf/1602.01783.pdf)** where each agent relies on the same neural network to tell them what they should do in a given state. In other words, each thread calls model.predict concurrently as in your problem. An example implementation with Keras of it is here.\n",
    "\n",
    "You should, however, pay extra attention to this line if you looked into the code: \n",
    "\n",
    "```\n",
    "model._make_predict_function() # have to initialize before threading\n",
    "```\n",
    "\n",
    "This is never mentioned in the Keras docs, but its necessary to make it work concurrently. In short, _make_predict_function is a function that compiles the predict function. In multi thread setting, you have to manually call this function to compile predict in advance, otherwise the predict function will not be compiled until you run it the first time, which will be problematic when many threading calling it at once. A detailed explanation [here](https://github.com/keras-team/keras/issues/6124).\n",
    "\n"
   ]
  },
  {
   "cell_type": "code",
   "execution_count": null,
   "metadata": {
    "collapsed": true
   },
   "outputs": [],
   "source": []
  }
 ],
 "metadata": {
  "kernelspec": {
   "display_name": "Python 3",
   "language": "python",
   "name": "python3"
  },
  "language_info": {
   "codemirror_mode": {
    "name": "ipython",
    "version": 3
   },
   "file_extension": ".py",
   "mimetype": "text/x-python",
   "name": "python",
   "nbconvert_exporter": "python",
   "pygments_lexer": "ipython3",
   "version": "3.6.3"
  }
 },
 "nbformat": 4,
 "nbformat_minor": 2
}
