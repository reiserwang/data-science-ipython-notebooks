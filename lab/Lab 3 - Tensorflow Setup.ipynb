{
 "cells": [
  {
   "cell_type": "markdown",
   "metadata": {},
   "source": [
    "# Lab 3 Tensorflow Setup\n",
    "\n",
    "\n",
    "\n",
    "## 1. Install Anaconda Python\n",
    "1.1 Intall Anaconda (done)\n",
    "1.2 conda update conda (done)\n",
    "1.3.conda update anaconda (done)\n",
    "\n",
    "## 2. Setup Tensorflow Virtual Environment\n",
    "2.1 **conda create -n tensorflow python=3 anaconda**\n",
    "\n",
    "2.2 **source activate tensorflow**\n",
    "\n",
    "## 3. Install Tensorflow Package\n",
    "3.1 **pip install tensorflow**\n",
    "\n",
    "and you should see sy1.stem message like below\n",
    "``` bash\n",
    "Collecting tensorflow\n",
    "  Downloading https://files.pythonhosted.org/packages/e7/88/417f18ca7eed5ba9bebd51650d04a4af929f96c10a10fbb3302196f8d098/tensorflow-1.9.0-cp36-cp36m-win_amd64.whl (37.1MB)\n",
    "    100% |████████████████████████████████| 37.1MB 424kB/s\n",
    "Collecting absl-py>=0.1.6 (from tensorflow)\n",
    "  Downloading https://files.pythonhosted.org/packages/57/8d/6664518f9b6ced0aa41cf50b989740909261d4c212557400c48e5cda0804/absl-py-0.2.2.tar.gz (82kB)\n",
    "    100% |████████████████████████████████| 92kB 1.3MB/s\n",
    "Requirement already satisfied: six>=1.10.0 in c:\\programdata\\anaconda3\\lib\\site-packages (from tensorflow)\n",
    "Collecting astor>=0.6.0 (from tensorflow)\n",
    "  Downloading https://files.pythonhosted.org/packages/35/6b/11530768cac581a12952a2aad00e1526b89d242d0b9f59534ef6e6a1752f/astor-0.7.1-py2.py3-none-any.whl\n",
    "Requirement already satisfied: numpy>=1.13.3 in c:\\programdata\\anaconda3\\lib\\site-packages (from tensorflow)\n",
    "Collecting grpcio>=1.8.6 (from tensorflow)\n",
    "  Downloading https://files.pythonhosted.org/packages/d5/c6/15728549704f9c03db7179b7f99303b91b7703e18a50f5e7b47e59b289ea/grpcio-1.13.0-cp36-cp36m-win_amd64.whl (1.4MB)\n",
    "    100% |████████████████████████████████| 1.4MB 1.4MB/s\n",
    "Requirement already satisfied: setuptools<=39.1.0 in c:\\programdata\\anaconda3\\lib\\site-packages (from tensorflow)\n",
    "Requirement already satisfied: wheel>=0.26 in c:\\programdata\\anaconda3\\lib\\site-packages (from tensorflow)\n",
    "Collecting gast>=0.2.0 (from tensorflow)\n",
    "  Downloading https://files.pythonhosted.org/packages/5c/78/ff794fcae2ce8aa6323e789d1f8b3b7765f601e7702726f430e814822b96/gast-0.2.0.tar.gz\n",
    "Collecting tensorboard<1.10.0,>=1.9.0 (from tensorflow)\n",
    "  Downloading https://files.pythonhosted.org/packages/9e/1f/3da43860db614e294a034e42d4be5c8f7f0d2c75dc1c428c541116d8cdab/tensorboard-1.9.0-py3-none-any.whl (3.3MB)\n",
    "    100% |████████████████████████████████| 3.3MB 2.0MB/s\n",
    "Collecting termcolor>=1.1.0 (from tensorflow)\n",
    "  Downloading https://files.pythonhosted.org/packages/8a/48/a76be51647d0eb9f10e2a4511bf3ffb8cc1e6b14e9e4fab46173aa79f981/termcolor-1.1.0.tar.gz\n",
    "Collecting protobuf>=3.4.0 (from tensorflow)\n",
    "  Downloading https://files.pythonhosted.org/packages/75/7a/0dba607e50b97f6a89fa3f96e23bf56922fa59d748238b30507bfe361bbc/protobuf-3.6.0-cp36-cp36m-win_amd64.whl (1.1MB)\n",
    "    100% |████████████████████████████████| 1.1MB 867kB/s\n",
    "Collecting markdown>=2.6.8 (from tensorboard<1.10.0,>=1.9.0->tensorflow)\n",
    "  Downloading https://files.pythonhosted.org/packages/6d/7d/488b90f470b96531a3f5788cf12a93332f543dbab13c423a5e7ce96a0493/Markdown-2.6.11-py2.py3-none-any.whl (78kB)\n",
    "    100% |████████████████████████████████| 81kB 469kB/s\n",
    "Requirement already satisfied: werkzeug>=0.11.10 in c:\\programdata\\anaconda3\\lib\\site-packages (from tensorboard<1.10.0,>=1.9.0->tensorflow)\n",
    "Building wheels for collected packages: absl-py, gast, termcolor\n",
    "  Running setup.py bdist_wheel for absl-py ... done\n",
    "  Stored in directory: C:\\Users\\rewang\\AppData\\Local\\pip\\Cache\\wheels\\a0\\f8\\e9\\1933dbb3447ea6ef57062fd5461cb118deb8c2ed074e8344bf\n",
    "  Running setup.py bdist_wheel for gast ... done\n",
    "  Stored in directory: C:\\Users\\rewang\\AppData\\Local\\pip\\Cache\\wheels\\9a\\1f\\0e\\3cde98113222b853e98fc0a8e9924480a3e25f1b4008cedb4f\n",
    "  Running setup.py bdist_wheel for termcolor ... done\n",
    "  Stored in directory: C:\\Users\\rewang\\AppData\\Local\\pip\\Cache\\wheels\\7c\\06\\54\\bc84598ba1daf8f970247f550b175aaaee85f68b4b0c5ab2c6\n",
    "Successfully built absl-py gast termcolor\n",
    "Installing collected packages: absl-py, astor, grpcio, gast, markdown, protobuf, tensorboard, termcolor, tensorflow\n",
    "\n",
    "```\n",
    "\n",
    "3.2 Execute below code section. You should be able to see output\n",
    "** b'Hello, TensorFlow!'**\n",
    "if Tensforflow is setup correctly."
   ]
  },
  {
   "cell_type": "code",
   "execution_count": 2,
   "metadata": {},
   "outputs": [
    {
     "name": "stdout",
     "output_type": "stream",
     "text": [
      "b'Hello, TensorFlow!'\n"
     ]
    }
   ],
   "source": [
    "import tensorflow as tf\n",
    "hello = tf.constant('Hello, TensorFlow!')\n",
    "sess = tf.Session()\n",
    "print(sess.run(hello))"
   ]
  },
  {
   "cell_type": "code",
   "execution_count": null,
   "metadata": {
    "collapsed": true
   },
   "outputs": [],
   "source": []
  }
 ],
 "metadata": {
  "kernelspec": {
   "display_name": "Python 3",
   "language": "python",
   "name": "python3"
  },
  "language_info": {
   "codemirror_mode": {
    "name": "ipython",
    "version": 3
   },
   "file_extension": ".py",
   "mimetype": "text/x-python",
   "name": "python",
   "nbconvert_exporter": "python",
   "pygments_lexer": "ipython3",
   "version": "3.6.3"
  }
 },
 "nbformat": 4,
 "nbformat_minor": 2
}
